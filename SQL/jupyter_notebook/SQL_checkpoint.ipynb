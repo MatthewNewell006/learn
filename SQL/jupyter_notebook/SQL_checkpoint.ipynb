{
 "cells": [
  {
   "cell_type": "markdown",
   "metadata": {},
   "source": [
    "As you begin exploring the city table from the world database, a place to start is to determine how many cities are in the table. Write a query that returns this value."
   ]
  },
  {
   "cell_type": "code",
   "execution_count": 12,
   "metadata": {},
   "outputs": [
    {
     "data": {
      "text/plain": [
       "'\\nSELECT Count(*) FROM city;\\n'"
      ]
     },
     "execution_count": 12,
     "metadata": {},
     "output_type": "execute_result"
    }
   ],
   "source": [
    "'''\n",
    "cities = SELECT MAX(id) FROM city;\n",
    "'''\n",
    "\n",
    "'''\n",
    "SELECT Count(*) FROM city;\n",
    "'''"
   ]
  },
  {
   "cell_type": "code",
   "execution_count": null,
   "metadata": {},
   "outputs": [],
   "source": []
  },
  {
   "cell_type": "markdown",
   "metadata": {},
   "source": [
    "A natural thing to wonder about these cities is how they are distributed around the world. To start with this topic, write a query to return the countrycode and count of cities in that country for only the country with the most cities in the city table."
   ]
  },
  {
   "cell_type": "code",
   "execution_count": 13,
   "metadata": {},
   "outputs": [
    {
     "data": {
      "text/plain": [
       "'\\nSELECT countrycode, Count(*) AS cnt\\nFROM city\\nGROUP BY countrycode\\nORDER BY cnt DESC\\nLIMIT 1;\\n'"
      ]
     },
     "execution_count": 13,
     "metadata": {},
     "output_type": "execute_result"
    }
   ],
   "source": [
    "\"\"\"\n",
    "countrycode_citycount = '''SELECT countrycode, COUNT(name)\n",
    "FROM city\n",
    "GROUP BY countrycode\n",
    "ORDER BY COUNT(name) DESC\n",
    "LIMIT 1;\n",
    "'''\n",
    "\n",
    "\n",
    "#'''SELECT countrycode, COUNT(name) FROM city;\n",
    "#'''\n",
    "\n",
    "\"\"\"\n",
    "\n",
    "\"\"\"\n",
    "SELECT countrycode, Count(*) AS cnt\n",
    "FROM city\n",
    "GROUP BY countrycode\n",
    "ORDER BY cnt DESC\n",
    "LIMIT 1;\n",
    "\"\"\""
   ]
  },
  {
   "cell_type": "code",
   "execution_count": null,
   "metadata": {},
   "outputs": [],
   "source": []
  },
  {
   "cell_type": "markdown",
   "metadata": {},
   "source": [
    "You could look at the number of cities per country to try to get a sense about cities all over the world, but since there are several hundred countries this is not easily digestible. Instead, look at the counts of cities per continent. Write a query that returns each continent and the number of cities in that continent. Be sure that each city in the city table is included in the counts from your query.\n",
    "\n",
    "Hint: A good way to check if each city is included in this query is to look at the total of the counts from your query and see if this number matches the result you got from the first query you wrote above. Try testing this on your local machine.\n",
    "\n"
   ]
  },
  {
   "cell_type": "code",
   "execution_count": 14,
   "metadata": {},
   "outputs": [
    {
     "data": {
      "text/plain": [
       "'\\nSELECT continent, Count(*)\\nFROM city\\nLEFT JOIN country\\nON city.countrycode = country.code\\nGROUP BY continent;\\n'"
      ]
     },
     "execution_count": 14,
     "metadata": {},
     "output_type": "execute_result"
    }
   ],
   "source": [
    "\"\"\"\n",
    "continent_citycount = '''\n",
    "SELECT co.continent, COUNT(ci.name)\n",
    "FROM city ci\n",
    "LEFT JOIN country co\n",
    "ON ci.countrycode = co .code\n",
    "GROUP BY co.continent\n",
    "ORDER BY COUNT(ci.name) ASC;\n",
    "'''\n",
    "\"\"\"\n",
    "\n",
    "\"\"\"\n",
    "SELECT continent, Count(*)\n",
    "FROM city\n",
    "LEFT JOIN country\n",
    "ON city.countrycode = country.code\n",
    "GROUP BY continent;\n",
    "\"\"\""
   ]
  },
  {
   "cell_type": "code",
   "execution_count": null,
   "metadata": {},
   "outputs": [],
   "source": []
  },
  {
   "cell_type": "markdown",
   "metadata": {},
   "source": [
    "The results of this tell us some interesting things, such as that almost half of the cities in the dataset are located in Asia. However, it seems that 5 cities in the table are not associated with any continent. If you run the query as an INNER JOIN rather than a LEFT JOIN these 5 cities are not included in the results. This means that there is a mismatch between the countrycode column in the city table and the code column in the country table (normally you would expect everything to match, since you are using countrycode as a foreign key for joining with the country table).\n",
    "\n",
    "You should investigate this mismatch further. One of the most time-consuming parts of the job of a data scientist is dealing with messy data like this. Our next step is to examine the 5 mismatched cities in more detail. One way to get information about these cities is to run the following query (feel free to run it with the copy of the database you have on your computer):\n",
    "\n"
   ]
  },
  {
   "cell_type": "code",
   "execution_count": 15,
   "metadata": {},
   "outputs": [
    {
     "data": {
      "text/plain": [
       "'\\nSELECT city.id, city.name, city.countrycode, city.district\\nFROM city\\nLEFT JOIN country\\nON city.countrycode = country.code\\nWHERE country.code is NULL;\\n'"
      ]
     },
     "execution_count": 15,
     "metadata": {},
     "output_type": "execute_result"
    }
   ],
   "source": [
    "\"\"\"\n",
    "SELECT city.id, city.name, city.countrycode, city.district\n",
    "FROM city\n",
    "LEFT JOIN country\n",
    "ON city.countrycode = country.code\n",
    "WHERE country.code is NULL;\n",
    "\"\"\""
   ]
  },
  {
   "cell_type": "markdown",
   "metadata": {},
   "source": [
    "This query should mostly look familiar, but the content of the WHERE clause might be new. Here you filter results to focus on our mismatch following the LEFT JOIN. For the five cities in question, there is no equivalent value in country.code, so the value in that column is empty. In SQL these empty values are referred to as NULL.\n",
    "\n",
    "When you examine the results of this query you see that, for our five cities, the columns of the data are not aligned correctly; specifically, the city name seems to have been chopped in half, with part appearing in the name column and the rest in the countrycode column. This type of issue is common, and the solution, in this case, is to update the rows for these cities so that the full city name shows up in the name column only."
   ]
  },
  {
   "cell_type": "code",
   "execution_count": null,
   "metadata": {},
   "outputs": [],
   "source": []
  }
 ],
 "metadata": {
  "kernelspec": {
   "display_name": "Python 3",
   "language": "python",
   "name": "python3"
  },
  "language_info": {
   "codemirror_mode": {
    "name": "ipython",
    "version": 3
   },
   "file_extension": ".py",
   "mimetype": "text/x-python",
   "name": "python",
   "nbconvert_exporter": "python",
   "pygments_lexer": "ipython3",
   "version": "3.8.5"
  }
 },
 "nbformat": 4,
 "nbformat_minor": 4
}
