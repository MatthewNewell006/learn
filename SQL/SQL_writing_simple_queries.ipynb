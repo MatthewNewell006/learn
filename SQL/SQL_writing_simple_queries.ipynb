{
 "cells": [
  {
   "cell_type": "markdown",
   "metadata": {},
   "source": [
    "1. Use the WHERE clause to show the appearance of rats. You should return your query as a string assigned to the variable one_where, as follows:"
   ]
  },
  {
   "cell_type": "code",
   "execution_count": 1,
   "metadata": {},
   "outputs": [],
   "source": [
    "# one_where = '''\n",
    "# SELECT appearance FROM animals WHERE species = 'rat';\n",
    "# '''"
   ]
  },
  {
   "cell_type": "code",
   "execution_count": 2,
   "metadata": {},
   "outputs": [],
   "source": [
    "# one_where = '''\n",
    "# SELECT appearance\n",
    "# FROM animals\n",
    "# WHERE species = \"rat\"\n",
    "# '''"
   ]
  },
  {
   "cell_type": "code",
   "execution_count": null,
   "metadata": {},
   "outputs": [],
   "source": []
  },
  {
   "cell_type": "markdown",
   "metadata": {},
   "source": [
    "2. Use IN to show the species for animals with vertebrate_class 'mammal' and 'amphibian'. Return your query as:"
   ]
  },
  {
   "cell_type": "code",
   "execution_count": 3,
   "metadata": {},
   "outputs": [],
   "source": [
    "# two_in = '''\n",
    "# SELECT species FROM animals WHERE vertebrate_class IN ('mammal', 'amphibian');\n",
    "# '''"
   ]
  },
  {
   "cell_type": "code",
   "execution_count": 4,
   "metadata": {},
   "outputs": [],
   "source": [
    "# two_in = '''\n",
    "# SELECT species\n",
    "# FROM animals\n",
    "# WHERE vertebrate_class IN ('mammal', 'amphibian');\n",
    "# '''"
   ]
  },
  {
   "cell_type": "code",
   "execution_count": null,
   "metadata": {},
   "outputs": [],
   "source": []
  },
  {
   "cell_type": "markdown",
   "metadata": {},
   "source": [
    "3. Use BETWEEN to show species that have at least 1 leg, but no more than than 3 legs."
   ]
  },
  {
   "cell_type": "code",
   "execution_count": 5,
   "metadata": {},
   "outputs": [],
   "source": [
    "# three_between = '''\n",
    "# SELECT species FROM animals WHERE num_legs BETWEEN 1 AND 3;\n",
    "# '''"
   ]
  },
  {
   "cell_type": "code",
   "execution_count": 6,
   "metadata": {},
   "outputs": [],
   "source": [
    "# three_between = '''\n",
    "# SELECT species\n",
    "# FROM animals\n",
    "# WHERE num_legs\n",
    "# BETWEEN 1 and 3;\n",
    "# '''"
   ]
  },
  {
   "cell_type": "code",
   "execution_count": null,
   "metadata": {},
   "outputs": [],
   "source": []
  },
  {
   "cell_type": "markdown",
   "metadata": {},
   "source": [
    "4. Use LIKE to show species that have an appearance that starts with 'f'."
   ]
  },
  {
   "cell_type": "code",
   "execution_count": 8,
   "metadata": {},
   "outputs": [],
   "source": [
    "# four_like = '''\n",
    "# SELECT species FROM animals WHERE appearance LIKE 'f%';\n",
    "# '''"
   ]
  },
  {
   "cell_type": "code",
   "execution_count": 9,
   "metadata": {},
   "outputs": [],
   "source": [
    "# four_like = '''\n",
    "# SELECT species\n",
    "# FROM animals\n",
    "# WHERE appearance\n",
    "# LIKE \"f%\";\n",
    "# '''"
   ]
  },
  {
   "cell_type": "code",
   "execution_count": null,
   "metadata": {},
   "outputs": [],
   "source": []
  },
  {
   "cell_type": "code",
   "execution_count": null,
   "metadata": {},
   "outputs": [],
   "source": []
  }
 ],
 "metadata": {
  "kernelspec": {
   "display_name": "Python 3",
   "language": "python",
   "name": "python3"
  },
  "language_info": {
   "codemirror_mode": {
    "name": "ipython",
    "version": 3
   },
   "file_extension": ".py",
   "mimetype": "text/x-python",
   "name": "python",
   "nbconvert_exporter": "python",
   "pygments_lexer": "ipython3",
   "version": "3.8.5"
  }
 },
 "nbformat": 4,
 "nbformat_minor": 4
}
