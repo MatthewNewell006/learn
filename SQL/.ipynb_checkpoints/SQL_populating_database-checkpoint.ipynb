{
 "cells": [
  {
   "cell_type": "markdown",
   "metadata": {},
   "source": [
    "Opening a sqlite session\n",
    "For this unit, you'll be interacting with SQL using SQLite. SQLite3 comes standard on OS X 10.4 and up; if you are using Ubuntu, follow these  installation instructions.\n",
    "\n",
    "To start, open a terminal session and navigate to the directory where you would like to store your database. Create a database file by entering the command touch sales.db. This will create an empty file.\n",
    "\n",
    "Next, connect to the database through SQLite by entering sqlite3 sales.db. This will drop you into a SQLite session."
   ]
  },
  {
   "cell_type": "code",
   "execution_count": null,
   "metadata": {},
   "outputs": [],
   "source": []
  },
  {
   "cell_type": "markdown",
   "metadata": {},
   "source": [
    "## Creating tables\n",
    "\n",
    "Right now, your database is empty. Before you can store anything, you need to create a table.\n",
    "\n",
    "Enter the following at the *sqlite > prompt*:"
   ]
  },
  {
   "cell_type": "code",
   "execution_count": 6,
   "metadata": {},
   "outputs": [],
   "source": [
    "\n",
    "# CREATE TABLE customers (\n",
    "#         id INTEGER PRIMARY KEY,\n",
    "#         name VARCHAR(50),\n",
    "#         birthyear INTEGER,\n",
    "#         city VARCHAR(50),\n",
    "#         state VARCHAR(2));\n",
    "      "
   ]
  },
  {
   "cell_type": "markdown",
   "metadata": {},
   "source": [
    "Here's a walk-through each line of this command:\n",
    "\n",
    "* CREATE TABLE customers ( Create a table and call it customers. You are connected to the sales database, so this table will be part of that database.\n",
    "\n",
    "* id INTEGER PRIMARY KEY, Create a field called id of datatype INTEGER and designate it as the PRIMARY KEY.\n",
    "\n",
    "* name VARCHAR(50), Create a field called name of datatype VARCHAR (an alias for CHARACTER VARYING, for varying length) and limit its length to 50 characters.\n",
    "\n",
    "* birthyear INTEGER, Create a field called birthyear of datatype INTEGER.\n",
    "\n",
    "* city VARCHAR(50), Create a field called city of datatype VARCHAR and limit its length to 50 characters.\n",
    "\n",
    "* state VARCHAR(2)); Create a field called state of datatype VARCHAR and limit its length to 2 characters. The second ) closes the parenthetical that was opened in line 1. Entering a value longer than 2 characters (50 characters in the case of name and city) will throw an error. Refer to this  document for an explanation of the difference between CHAR and VARCHAR types.\n",
    "\n",
    "At this point, you have one table with no data. There's not much to see, but you can check to be sure you created the table successfully by typing in .tables. This will show you all tables in the current database. For now, you should just see customers.\n",
    "\n",
    "You need two more tables to complete your schema, products and purchases. Enter this into SQLite:"
   ]
  },
  {
   "cell_type": "code",
   "execution_count": 7,
   "metadata": {},
   "outputs": [],
   "source": [
    "\n",
    "# CREATE TABLE products (\n",
    "#     id INTEGER PRIMARY KEY,\n",
    "#     name VARCHAR(50),\n",
    "#     price NUMERIC(6, 2));\n",
    "\n",
    "# CREATE TABLE purchases (\n",
    "#     id INTEGER PRIMARY KEY,\n",
    "#     custid INTEGER REFERENCES customers(id),\n",
    "#     prodid INTEGER REFERENCES products(id),\n",
    "#     quantity INTEGER,\n",
    "#     date DATE);\n"
   ]
  },
  {
   "cell_type": "markdown",
   "metadata": {},
   "source": [
    "Most of this should look familiar, but you have a couple new terms.\n",
    "\n",
    "* price NUMERIC(6, 2)); What you generally call a float can be represented in SQLite with a NUMERIC type. The arguments are precision (the total number of digits allowed) and scale (the total number of digits allowed after the decimal point), respectively.\n",
    "\n",
    "* custid INTEGER REFERENCES customers(id), establishes custid as a foreign key that refers back the id column of the customers table. The same applies to prodid and the product table.\n",
    "\n",
    "* date DATE); The DATE type is stored as a uniform format, but can be displayed in many different configurations. You can read more about the DATE type here.\n",
    "\n",
    "Check *.tables* one more time. You should now see a list of all three tables you've created."
   ]
  },
  {
   "cell_type": "code",
   "execution_count": null,
   "metadata": {},
   "outputs": [],
   "source": []
  },
  {
   "cell_type": "markdown",
   "metadata": {},
   "source": [
    "## Manually entering data\n",
    "\n",
    "You can enter any number of rows into a table using the commend INSERT INTO tablename VALUES\n",
    "\n",
    "Entering one complete row\n",
    "If you enter a value for each column in your table, they'll be filled in that order.\n",
    "\n",
    "Insert the first row of your customers table like this:"
   ]
  },
  {
   "cell_type": "code",
   "execution_count": 8,
   "metadata": {},
   "outputs": [],
   "source": [
    "\n",
    "# INSERT INTO customers VALUES\n",
    "#     (1001, 'Polly', 1952, 'San Francisco', 'CA');\n"
   ]
  },
  {
   "cell_type": "code",
   "execution_count": null,
   "metadata": {},
   "outputs": [],
   "source": []
  },
  {
   "cell_type": "markdown",
   "metadata": {},
   "source": [
    "Unlike most SQL dialects, SQLite doesn't show headers (column names) by default. You can turn this feature on by entering *.headers ON*."
   ]
  },
  {
   "cell_type": "markdown",
   "metadata": {},
   "source": [
    "about how to turn this feature on permanently.) You can also improve the readability by going into column mode with the command *.mode column*."
   ]
  },
  {
   "cell_type": "code",
   "execution_count": null,
   "metadata": {},
   "outputs": [],
   "source": []
  },
  {
   "cell_type": "markdown",
   "metadata": {},
   "source": [
    "## Loading data from a SQL file\n",
    "\n",
    "Here's a more streamlined approach to populating the rest of the sales database by loading the data from a sql file. Download the sales.sql  file and put it in the same directory as *sales.db*. Then enter the following command in your SQLite session:"
   ]
  },
  {
   "cell_type": "code",
   "execution_count": 9,
   "metadata": {},
   "outputs": [],
   "source": [
    "\n",
    "# .read sales.sql\n"
   ]
  },
  {
   "cell_type": "code",
   "execution_count": null,
   "metadata": {},
   "outputs": [],
   "source": []
  },
  {
   "cell_type": "markdown",
   "metadata": {},
   "source": [
    "While you can declare a field as a BOOLEAN type, SQLite treats it as a standard NUMERIC. If you would like to restrict the values that can be entered to 0 and 1, you can declare a check:"
   ]
  },
  {
   "cell_type": "code",
   "execution_count": 10,
   "metadata": {},
   "outputs": [],
   "source": [
    "# CREATE TABLE random (\n",
    "#             id INTEGER PRIMARY KEY,\n",
    "#             is_true BOOLEAN CHECK(is_true = 0 or is_true = 1)\n",
    "#             );"
   ]
  },
  {
   "cell_type": "code",
   "execution_count": null,
   "metadata": {},
   "outputs": [],
   "source": []
  }
 ],
 "metadata": {
  "kernelspec": {
   "display_name": "Python 3",
   "language": "python",
   "name": "python3"
  },
  "language_info": {
   "codemirror_mode": {
    "name": "ipython",
    "version": 3
   },
   "file_extension": ".py",
   "mimetype": "text/x-python",
   "name": "python",
   "nbconvert_exporter": "python",
   "pygments_lexer": "ipython3",
   "version": "3.8.5"
  }
 },
 "nbformat": 4,
 "nbformat_minor": 4
}
