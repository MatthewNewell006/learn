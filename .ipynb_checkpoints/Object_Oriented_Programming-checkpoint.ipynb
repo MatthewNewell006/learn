{
 "cells": [
  {
   "cell_type": "markdown",
   "metadata": {},
   "source": [
    "## Design Principles\n",
    "\n",
    "The motivation for object-oriented programming (OOP) is actually heavily rooted in design principles that are common across multiple disciplines, namely the principles of inheritance, encapsulation, and polymorphism. This terminology is more of an advanced topic in computer programming, and it will only be covered briefly here (while it is advanced, any treatment of OOP should at least mention these, which is why we do here).\n",
    "\n",
    "\n",
    "### Inheritance:\n",
    "\n",
    "When a class is based on another class, building off of the existing class to take advantage of existing behavior, while having additional specific behavior of its own.\n",
    "\n",
    "\n",
    "#### Example:\n",
    "\n",
    "A Toyota Prius would be a member of the HybridCar class, which inherits the more generic Car class. The Prius has all of the attributes and methods that a regular car would, but also some that not all cars do, like battery_life, and recharge_battery().\n",
    "\n",
    "\n",
    "### Encapsulation:\n",
    "\n",
    "The practice of hiding the inner workings of our class, and only exposing what is necessary to the outside world.\n",
    "\n",
    "\n",
    "#### Example:\n",
    "\n",
    "When someone goes to drive a car, they do not need to know the inner workings of the engine, rather they only have to know to drive it safely. This requires the use of appropriate inputs (like pushing the gas pedal), akin to using a method and providing the parameters for that method.\n",
    "\n",
    "\n",
    "### Polymorphism:\n",
    "\n",
    "The provision of a single interface to entities of different types. This enables us to use a shared interface for similar classes while at the same time still allowing each class to have its own specialized behavior.\n",
    "\n",
    "\n",
    "#### Example:\n",
    "\n",
    "There are some cars which might have special features, but they do not differ enough from the generic Car class to warrant their own class definition. An attribute like spoiler_color might not be necessary to define for all members of the Car class, because not all cars have spoilers. We can still use the Car class to describe these vehicles, but not every instance of car will have the exact same set of attributes, that is, cars without spoilers, will have a None type assigned to the spoiler_color attribute."
   ]
  },
  {
   "cell_type": "markdown",
   "metadata": {},
   "source": [
    "## Shape"
   ]
  },
  {
   "cell_type": "code",
   "execution_count": 55,
   "metadata": {},
   "outputs": [],
   "source": [
    "class Shape:\n",
    "\n",
    "    def __init__(self, x, y):\n",
    "        self.x = x\n",
    "        self.y = y\n",
    "        self.description = \"This shape has not been described yet\"\n",
    "        self.author = \"Nobody has claimed to make this shape yet\"\n",
    "\n",
    "    def area(self):\n",
    "        return self.x * self.y\n",
    "\n",
    "    def perimeter(self):\n",
    "        return 2 * self.x + 2 * self.y\n",
    "\n",
    "    def describe(self, text):\n",
    "        self.description = text\n",
    "\n",
    "    def authorName(self, text):\n",
    "        self.author = text\n",
    "\n",
    "    def scaleSize(self, scale):\n",
    "        self.x = self.x * scale\n",
    "        self.y = self.y * scale"
   ]
  },
  {
   "cell_type": "code",
   "execution_count": 56,
   "metadata": {},
   "outputs": [],
   "source": [
    "rect = Shape(4, 5)"
   ]
  },
  {
   "cell_type": "code",
   "execution_count": 57,
   "metadata": {},
   "outputs": [
    {
     "data": {
      "text/plain": [
       "20"
      ]
     },
     "execution_count": 57,
     "metadata": {},
     "output_type": "execute_result"
    }
   ],
   "source": [
    "rect.area()"
   ]
  },
  {
   "cell_type": "code",
   "execution_count": 58,
   "metadata": {},
   "outputs": [
    {
     "data": {
      "text/plain": [
       "'This shape has not been described yet'"
      ]
     },
     "execution_count": 58,
     "metadata": {},
     "output_type": "execute_result"
    }
   ],
   "source": [
    "rect.description"
   ]
  },
  {
   "cell_type": "code",
   "execution_count": 59,
   "metadata": {},
   "outputs": [],
   "source": [
    "rect.describe('Reassign the string')"
   ]
  },
  {
   "cell_type": "code",
   "execution_count": 60,
   "metadata": {},
   "outputs": [
    {
     "data": {
      "text/plain": [
       "'Reassign the string'"
      ]
     },
     "execution_count": 60,
     "metadata": {},
     "output_type": "execute_result"
    }
   ],
   "source": [
    "rect.description"
   ]
  },
  {
   "cell_type": "markdown",
   "metadata": {},
   "source": [
    "## Person"
   ]
  },
  {
   "cell_type": "code",
   "execution_count": null,
   "metadata": {},
   "outputs": [],
   "source": []
  },
  {
   "cell_type": "code",
   "execution_count": 61,
   "metadata": {},
   "outputs": [],
   "source": [
    "class Person:\n",
    "    def __init__(self, name = 'unknown', age = 0, is_alive = True):\n",
    "        self.name = name\n",
    "        self.age = age\n",
    "        self.is_alive = is_alive\n",
    "    def new_name(self, text):\n",
    "        self.name = text\n"
   ]
  },
  {
   "cell_type": "code",
   "execution_count": 62,
   "metadata": {},
   "outputs": [],
   "source": [
    "guy = Person('Bob')"
   ]
  },
  {
   "cell_type": "code",
   "execution_count": 63,
   "metadata": {},
   "outputs": [],
   "source": [
    "guy.new_name('Matt')"
   ]
  },
  {
   "cell_type": "code",
   "execution_count": 64,
   "metadata": {},
   "outputs": [
    {
     "data": {
      "text/plain": [
       "'Matt'"
      ]
     },
     "execution_count": 64,
     "metadata": {},
     "output_type": "execute_result"
    }
   ],
   "source": [
    "guy.name"
   ]
  },
  {
   "cell_type": "markdown",
   "metadata": {},
   "source": [
    "## Student"
   ]
  },
  {
   "cell_type": "code",
   "execution_count": null,
   "metadata": {},
   "outputs": [],
   "source": []
  },
  {
   "cell_type": "code",
   "execution_count": 65,
   "metadata": {},
   "outputs": [],
   "source": [
    "class Student:\n",
    "    def __init__(self, name, age=0):\n",
    "        self.name = name\n",
    "        self.age = age\n",
    "\n",
    "        if age >= 18:\n",
    "            self.is_adult = True\n",
    "        else:\n",
    "            self.is_adult = False"
   ]
  },
  {
   "cell_type": "code",
   "execution_count": 66,
   "metadata": {},
   "outputs": [],
   "source": [
    "s = Student('Katie', 17)"
   ]
  },
  {
   "cell_type": "code",
   "execution_count": 67,
   "metadata": {},
   "outputs": [
    {
     "data": {
      "text/plain": [
       "False"
      ]
     },
     "execution_count": 67,
     "metadata": {},
     "output_type": "execute_result"
    }
   ],
   "source": [
    "s.is_adult"
   ]
  },
  {
   "cell_type": "markdown",
   "metadata": {},
   "source": [
    "## Person"
   ]
  },
  {
   "cell_type": "code",
   "execution_count": null,
   "metadata": {},
   "outputs": [],
   "source": []
  },
  {
   "cell_type": "code",
   "execution_count": 68,
   "metadata": {},
   "outputs": [],
   "source": [
    "class Person:\n",
    "\n",
    "    def __init__(self, name, age=0):\n",
    "        self.name = name\n",
    "        self.age = age\n",
    "        \n",
    "    def is_teen(self):\n",
    "        if self.age in range(13,19):\n",
    "            return True\n",
    "        else:\n",
    "            return False"
   ]
  },
  {
   "cell_type": "markdown",
   "metadata": {},
   "source": [
    "## Student"
   ]
  },
  {
   "cell_type": "code",
   "execution_count": null,
   "metadata": {},
   "outputs": [],
   "source": []
  },
  {
   "cell_type": "code",
   "execution_count": 74,
   "metadata": {},
   "outputs": [
    {
     "name": "stdout",
     "output_type": "stream",
     "text": [
      "True\n"
     ]
    }
   ],
   "source": [
    "class Student:\n",
    "    def __init__(self, name, enrolled, alumni, continuing_ed = False):\n",
    "        self.name = name\n",
    "        self.enrolled = enrolled\n",
    "        self.alumni = alumni\n",
    "        self.continuing_ed = continuing_ed\n",
    "\n",
    "        if enrolled and alumni:\n",
    "            self.continuing_ed = True\n",
    "\n",
    "    def is_continuing_ed(self):\n",
    "        return self.continuing_ed\n",
    "\n",
    "s = Student(\"Chauncey\", True, True)\n",
    "print(s.is_continuing_ed())"
   ]
  },
  {
   "cell_type": "code",
   "execution_count": 75,
   "metadata": {},
   "outputs": [
    {
     "data": {
      "text/plain": [
       "True"
      ]
     },
     "execution_count": 75,
     "metadata": {},
     "output_type": "execute_result"
    }
   ],
   "source": [
    "s = Student(\"Chauncey\", True, True)\n",
    "s.is_continuing_ed()"
   ]
  },
  {
   "cell_type": "markdown",
   "metadata": {},
   "source": [
    "## Person"
   ]
  },
  {
   "cell_type": "code",
   "execution_count": null,
   "metadata": {},
   "outputs": [],
   "source": []
  },
  {
   "cell_type": "code",
   "execution_count": 78,
   "metadata": {},
   "outputs": [],
   "source": [
    "class Person:\n",
    "\n",
    "    def __init__(self, name, age=0, adult = False):\n",
    "        self.name = name\n",
    "        self.age = age\n",
    "        self.adult = adult\n",
    "\n",
    "        if age > 17:\n",
    "            self.adult = True\n",
    "        else:\n",
    "        \tself.adult = False\n",
    "        \n",
    "\n",
    "    def happy_birthday(self):\n",
    "        self.age += 1\n",
    "        if self.age > 17:\n",
    "            self.adult = True\n",
    "        else:\n",
    "            self.adult = False\n",
    "        return self.adult"
   ]
  },
  {
   "cell_type": "code",
   "execution_count": 81,
   "metadata": {},
   "outputs": [
    {
     "data": {
      "text/plain": [
       "False"
      ]
     },
     "execution_count": 81,
     "metadata": {},
     "output_type": "execute_result"
    }
   ],
   "source": [
    "p = Person(\"Frank\", 17)\n",
    "p.adult"
   ]
  },
  {
   "cell_type": "code",
   "execution_count": 82,
   "metadata": {},
   "outputs": [
    {
     "data": {
      "text/plain": [
       "True"
      ]
     },
     "execution_count": 82,
     "metadata": {},
     "output_type": "execute_result"
    }
   ],
   "source": [
    "p.happy_birthday()"
   ]
  },
  {
   "cell_type": "code",
   "execution_count": 83,
   "metadata": {},
   "outputs": [
    {
     "data": {
      "text/plain": [
       "True"
      ]
     },
     "execution_count": 83,
     "metadata": {},
     "output_type": "execute_result"
    }
   ],
   "source": [
    "p.adult"
   ]
  },
  {
   "cell_type": "markdown",
   "metadata": {},
   "source": [
    "## Person"
   ]
  },
  {
   "cell_type": "code",
   "execution_count": null,
   "metadata": {},
   "outputs": [],
   "source": []
  },
  {
   "cell_type": "code",
   "execution_count": 86,
   "metadata": {},
   "outputs": [],
   "source": [
    "class Person:\n",
    "\n",
    "    def __init__(self, name, age=0, voting_age = False):\n",
    "        self.name = name\n",
    "        self.age = age\n",
    "        self.voting_age = voting_age\n",
    "\n",
    "    def can_vote(self):\n",
    "    \tif self.age >= 18:\n",
    "    \t\tself.voting_age = True\n",
    "    \treturn self.voting_age\n",
    "\n",
    "    def happy_birthday(self):\n",
    "        self.age += 1\n",
    "\n",
    "        return \"Happy Birthday!\""
   ]
  },
  {
   "cell_type": "code",
   "execution_count": 87,
   "metadata": {},
   "outputs": [],
   "source": [
    "p = Person(\"Adam\", 17)"
   ]
  },
  {
   "cell_type": "code",
   "execution_count": 88,
   "metadata": {},
   "outputs": [
    {
     "data": {
      "text/plain": [
       "False"
      ]
     },
     "execution_count": 88,
     "metadata": {},
     "output_type": "execute_result"
    }
   ],
   "source": [
    "p.can_vote()"
   ]
  },
  {
   "cell_type": "code",
   "execution_count": 89,
   "metadata": {},
   "outputs": [
    {
     "data": {
      "text/plain": [
       "'Happy Birthday!'"
      ]
     },
     "execution_count": 89,
     "metadata": {},
     "output_type": "execute_result"
    }
   ],
   "source": [
    "p.happy_birthday()"
   ]
  },
  {
   "cell_type": "code",
   "execution_count": 91,
   "metadata": {},
   "outputs": [
    {
     "data": {
      "text/plain": [
       "True"
      ]
     },
     "execution_count": 91,
     "metadata": {},
     "output_type": "execute_result"
    }
   ],
   "source": [
    "p.can_vote()"
   ]
  },
  {
   "cell_type": "code",
   "execution_count": null,
   "metadata": {},
   "outputs": [],
   "source": []
  },
  {
   "cell_type": "markdown",
   "metadata": {},
   "source": [
    "## Magic Methods"
   ]
  },
  {
   "cell_type": "code",
   "execution_count": 92,
   "metadata": {},
   "outputs": [],
   "source": [
    "class GalvanizeCourse():\n",
    "    # Define the class\n",
    "    def __init__(self, name, location, size=0):\n",
    "        self.name = name\n",
    "        self.location = location\n",
    "        self.size = size\n",
    "        self.questions_asked = []\n",
    "\n",
    "        if self.size >= 20:\n",
    "            self.at_capacity = True\n",
    "        else:\n",
    "            self.at_capacity = False\n",
    "    # Magic Methods\n",
    "    def __len__(self):\n",
    "        return len(self.questions_asked)\n",
    "\n",
    "    def __str__(self):\n",
    "        our_course_string = '{}, location: {}'\n",
    "        return our_course_string.format(self.name, self.location)\n",
    "\n",
    "    def __eq__(self, other):\n",
    "        return self.name == other.name and self.location == other.location\n",
    "\n",
    "    # Regular Methods\n",
    "    def add_question_asked(self, question):\n",
    "        self.questions_asked.append(question)\n",
    "\n",
    "    def add_students(self, num):\n",
    "        self.size += num\n",
    "\n",
    "        if self.size >= 20:\n",
    "            print('Capacity Reached!!')\n",
    "            self.at_capacity = True\n",
    "        else:\n",
    "            self.at_capacity = False"
   ]
  },
  {
   "cell_type": "markdown",
   "metadata": {},
   "source": [
    "## LinearPolynomial"
   ]
  },
  {
   "cell_type": "code",
   "execution_count": 262,
   "metadata": {},
   "outputs": [],
   "source": [
    "class LinearPolynomial():\n",
    "    def __init__(self, m, b):\n",
    "        self.m = m\n",
    "        self.b = b\n",
    "\n",
    "    def __str__(self):\n",
    "        \"\"\"\n",
    "        Returns a string representation of the LinearPolynomial instance\n",
    "        referenced by self.\n",
    "\n",
    "        Returns\n",
    "        -------\n",
    "        A string formatted like:\n",
    "\n",
    "        mx + b\n",
    "\n",
    "        Where m is self.m and b is self.b\n",
    "        \"\"\"\n",
    "        return '{}x + {}'.format(self.m, self.b)\n",
    "#         ret = f'{self.m}x + {self.b}'\n",
    "#         return ret\n",
    "\n",
    "    def __add__(self, other):\n",
    "        \"\"\"\n",
    "        This function adds the other instance of LinearPolynomial\n",
    "        to the instance referenced by self.\n",
    "\n",
    "        Returns\n",
    "        -------\n",
    "        The sum of this instance of LinearPolynomial with another\n",
    "        instance of LinearPolynomial. This sum will not change either\n",
    "        of the instances reference by self or other. It returns the\n",
    "        sum as a new instance of LinearPolynomial, instantiated with\n",
    "        the newly calculated sum.\n",
    "        \"\"\"\n",
    "        \n",
    "        if not isinstance(other, LinearPolynomial):\n",
    "            return NotImplemented\n",
    "        Cm = other.m + self.m\n",
    "        Cb = other.b + self.b\n",
    "        return LinearPolynomial(Cm, Cb)"
   ]
  },
  {
   "cell_type": "code",
   "execution_count": 263,
   "metadata": {},
   "outputs": [],
   "source": [
    "x = LinearPolynomial(2,3)"
   ]
  },
  {
   "cell_type": "code",
   "execution_count": 264,
   "metadata": {},
   "outputs": [
    {
     "data": {
      "text/plain": [
       "'2x + 3'"
      ]
     },
     "execution_count": 264,
     "metadata": {},
     "output_type": "execute_result"
    }
   ],
   "source": [
    "x.__str__()"
   ]
  },
  {
   "cell_type": "code",
   "execution_count": 265,
   "metadata": {},
   "outputs": [],
   "source": [
    "y = LinearPolynomial(2,1)"
   ]
  },
  {
   "cell_type": "code",
   "execution_count": 266,
   "metadata": {},
   "outputs": [
    {
     "data": {
      "text/plain": [
       "'2x + 1'"
      ]
     },
     "execution_count": 266,
     "metadata": {},
     "output_type": "execute_result"
    }
   ],
   "source": [
    "y.__str__()"
   ]
  },
  {
   "cell_type": "code",
   "execution_count": 267,
   "metadata": {},
   "outputs": [
    {
     "data": {
      "text/plain": [
       "<__main__.LinearPolynomial at 0x7ffdce098ac0>"
      ]
     },
     "execution_count": 267,
     "metadata": {},
     "output_type": "execute_result"
    }
   ],
   "source": [
    "x.__add__(y)"
   ]
  },
  {
   "cell_type": "code",
   "execution_count": 268,
   "metadata": {},
   "outputs": [
    {
     "data": {
      "text/plain": [
       "'2x + 3 + 2x + 1'"
      ]
     },
     "execution_count": 268,
     "metadata": {},
     "output_type": "execute_result"
    }
   ],
   "source": [
    "f'{x.__str__()} + {y.__str__()}'"
   ]
  },
  {
   "cell_type": "code",
   "execution_count": 269,
   "metadata": {},
   "outputs": [],
   "source": [
    "z = x.__add__(y)"
   ]
  },
  {
   "cell_type": "code",
   "execution_count": 270,
   "metadata": {},
   "outputs": [
    {
     "data": {
      "text/plain": [
       "<__main__.LinearPolynomial at 0x7ffdce21b250>"
      ]
     },
     "execution_count": 270,
     "metadata": {},
     "output_type": "execute_result"
    }
   ],
   "source": [
    "z"
   ]
  },
  {
   "cell_type": "code",
   "execution_count": 271,
   "metadata": {},
   "outputs": [
    {
     "data": {
      "text/plain": [
       "4"
      ]
     },
     "execution_count": 271,
     "metadata": {},
     "output_type": "execute_result"
    }
   ],
   "source": [
    "z.m"
   ]
  },
  {
   "cell_type": "code",
   "execution_count": 272,
   "metadata": {},
   "outputs": [
    {
     "data": {
      "text/plain": [
       "4"
      ]
     },
     "execution_count": 272,
     "metadata": {},
     "output_type": "execute_result"
    }
   ],
   "source": [
    "z.b"
   ]
  },
  {
   "cell_type": "code",
   "execution_count": 273,
   "metadata": {},
   "outputs": [
    {
     "data": {
      "text/plain": [
       "'4x + 4'"
      ]
     },
     "execution_count": 273,
     "metadata": {},
     "output_type": "execute_result"
    }
   ],
   "source": [
    "z.__str__()"
   ]
  },
  {
   "cell_type": "code",
   "execution_count": null,
   "metadata": {},
   "outputs": [],
   "source": []
  },
  {
   "cell_type": "markdown",
   "metadata": {},
   "source": [
    "## LinearPolynomial"
   ]
  },
  {
   "cell_type": "code",
   "execution_count": 286,
   "metadata": {},
   "outputs": [],
   "source": [
    "class LinearPolynomial():\n",
    "    def __init__(self, m, b):\n",
    "        self.m = m\n",
    "        self.b = b\n",
    "\n",
    "    def __str__(self):\n",
    "        \"\"\"\n",
    "        Returns a string representation of the LinearPolynomial instance\n",
    "        referenced by self.\n",
    "\n",
    "        Returns\n",
    "        -------\n",
    "        A string formatted like:\n",
    "\n",
    "        mx + b\n",
    "\n",
    "        Where m is self.m and b is self.b\n",
    "        \"\"\"\n",
    "        return '{}x + {}'.format(self.m, self.b)\n",
    "\n",
    "    def __add__(self, other):\n",
    "        \"\"\"\n",
    "        This function adds the other instance of LinearPolynomial\n",
    "        to the instance referenced by self.\n",
    "\n",
    "        Returns\n",
    "        -------\n",
    "        The sum of this instance of LinearPolynomial with another\n",
    "        instance of LinearPolynomial. This sum will not change either\n",
    "        of the instances reference by self or other. It returns the\n",
    "        sum as a new instance of LinearPolynomial, instantiated with\n",
    "        the newly calculated sum.\n",
    "        \"\"\"\n",
    "        \n",
    "        return LinearPolynomial(self.m + other.m, self.b + other.b)"
   ]
  },
  {
   "cell_type": "code",
   "execution_count": 279,
   "metadata": {},
   "outputs": [],
   "source": [
    "a = LinearPolynomial(1,1)\n",
    "b = LinearPolynomial(2,3)"
   ]
  },
  {
   "cell_type": "code",
   "execution_count": 280,
   "metadata": {},
   "outputs": [
    {
     "data": {
      "text/plain": [
       "'1x + 1'"
      ]
     },
     "execution_count": 280,
     "metadata": {},
     "output_type": "execute_result"
    }
   ],
   "source": [
    "a.__str__()"
   ]
  },
  {
   "cell_type": "code",
   "execution_count": 281,
   "metadata": {},
   "outputs": [
    {
     "data": {
      "text/plain": [
       "'2x + 3'"
      ]
     },
     "execution_count": 281,
     "metadata": {},
     "output_type": "execute_result"
    }
   ],
   "source": [
    "b.__str__()"
   ]
  },
  {
   "cell_type": "code",
   "execution_count": 282,
   "metadata": {},
   "outputs": [],
   "source": [
    "z = a.__add__(b)"
   ]
  },
  {
   "cell_type": "code",
   "execution_count": 284,
   "metadata": {},
   "outputs": [
    {
     "data": {
      "text/plain": [
       "'3x + 4'"
      ]
     },
     "execution_count": 284,
     "metadata": {},
     "output_type": "execute_result"
    }
   ],
   "source": [
    "z.__str__()"
   ]
  },
  {
   "cell_type": "code",
   "execution_count": null,
   "metadata": {},
   "outputs": [],
   "source": []
  },
  {
   "cell_type": "markdown",
   "metadata": {},
   "source": [
    "## NumberFun"
   ]
  },
  {
   "cell_type": "code",
   "execution_count": 285,
   "metadata": {},
   "outputs": [],
   "source": [
    "class NumberFun():\n",
    "    def __init__(self, number):\n",
    "        \"\"\"\n",
    "        This initializer sets the number you will calculate divisors and\n",
    "        the factorial for.\n",
    "\n",
    "        This is stored in the instance property self.number\n",
    "\n",
    "        Parameters\n",
    "        -------\n",
    "        number: The number for which we will compute the factorial and divisors\n",
    "        \"\"\"\n",
    "        self.number = number\n",
    "\n",
    "    def factorial(self):\n",
    "        \"\"\"\n",
    "        This function calculates and returns the factorial of self.number.\n",
    "\n",
    "        Returns\n",
    "        -------\n",
    "        Factorial of self.number\n",
    "        \"\"\"\n",
    "        result = 1\n",
    "        for i in range(self.number, 0, -1):\n",
    "            result *= i\n",
    "        return result\n",
    "\n",
    "    def divisors(self):\n",
    "        \"\"\"\n",
    "        This method calculates and returns all of the divisors of self.number,\n",
    "        between 1 and self.number, inclusive.\n",
    "\n",
    "        Returns\n",
    "        -------\n",
    "        divisors: {list} all divisors of self.number in order from smallest to largest\n",
    "        \"\"\"\n",
    "        divisors = [1]  # 1 divides all numbers\n",
    "        stop = int(self.number / 2)\n",
    "        for number in range(2, stop + 1):\n",
    "            if self.number % number == 0:\n",
    "                divisors.append(number)\n",
    "        divisors.append(self.number)  # all numbers divide themselves\n",
    "        return divisors"
   ]
  },
  {
   "cell_type": "code",
   "execution_count": 287,
   "metadata": {},
   "outputs": [],
   "source": [
    "x = NumberFun(4)"
   ]
  },
  {
   "cell_type": "code",
   "execution_count": 288,
   "metadata": {},
   "outputs": [
    {
     "data": {
      "text/plain": [
       "24"
      ]
     },
     "execution_count": 288,
     "metadata": {},
     "output_type": "execute_result"
    }
   ],
   "source": [
    "x.factorial()"
   ]
  },
  {
   "cell_type": "code",
   "execution_count": 289,
   "metadata": {},
   "outputs": [
    {
     "data": {
      "text/plain": [
       "[1, 2, 4]"
      ]
     },
     "execution_count": 289,
     "metadata": {},
     "output_type": "execute_result"
    }
   ],
   "source": [
    "x.divisors()"
   ]
  },
  {
   "cell_type": "code",
   "execution_count": null,
   "metadata": {},
   "outputs": [],
   "source": []
  },
  {
   "cell_type": "code",
   "execution_count": null,
   "metadata": {},
   "outputs": [],
   "source": [
    "class NumberFun():\n",
    "    def __init__(self, number):\n",
    "        \"\"\"\n",
    "        This initializer sets the number for which we will calculate divisors and\n",
    "        the factorial for.\n",
    "\n",
    "        This is stored in the instance property self.number\n",
    "\n",
    "        Parameters\n",
    "        -------\n",
    "        number: The number for which we will compute the factorial and divisors\n",
    "        \"\"\"\n",
    "        self.number = number\n",
    "\n",
    "    def factorial(self):\n",
    "        \"\"\"\n",
    "        This function calculates and returns the factorial of self.number.\n",
    "\n",
    "        Returns\n",
    "        -------\n",
    "        Factorial of self.number\n",
    "        \"\"\"\n",
    "        num = self.number\n",
    "        self.result = 1\n",
    "        \n",
    "        for i in range(num):\n",
    "            self.result *= num\n",
    "            num -= 1\n",
    "        return self.result\n",
    "\n",
    "    def divisors(self):\n",
    "        \"\"\"\n",
    "        This method calculates and returns all of the divisors of self.number,\n",
    "        between 1 and self.number, inclusive.\n",
    "\n",
    "        Returns\n",
    "        -------\n",
    "        divisors: {list} all divisors of self.number in order from smallest to largest\n",
    "        \"\"\"\n",
    "        self.divisors = []\n",
    "        \n",
    "        for i in range(1, self.number + 1):\n",
    "            if self.number % i == 0:\n",
    "                self.divisors.append(i)\n",
    "        \n",
    "        return self.divisors"
   ]
  }
 ],
 "metadata": {
  "kernelspec": {
   "display_name": "Python 3",
   "language": "python",
   "name": "python3"
  },
  "language_info": {
   "codemirror_mode": {
    "name": "ipython",
    "version": 3
   },
   "file_extension": ".py",
   "mimetype": "text/x-python",
   "name": "python",
   "nbconvert_exporter": "python",
   "pygments_lexer": "ipython3",
   "version": "3.8.5"
  }
 },
 "nbformat": 4,
 "nbformat_minor": 4
}
