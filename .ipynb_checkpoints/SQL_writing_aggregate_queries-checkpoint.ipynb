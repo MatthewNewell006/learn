{
 "cells": [
  {
   "cell_type": "markdown",
   "metadata": {},
   "source": [
    "## Aggregate function"
   ]
  },
  {
   "cell_type": "markdown",
   "metadata": {},
   "source": [
    "Instead, you might to know how many countries are on each continent. Or, to expand on the query, the average population across of all countries on each continent. This process of grouping by one column, then counting or performing some other operation on another column, is called aggregating.\n",
    "\n",
    "Aggregate functions include\n",
    "\n",
    "* COUNT\n",
    "* SUM\n",
    "* AVG\n",
    "* MAX and MIN\n"
   ]
  },
  {
   "cell_type": "markdown",
   "metadata": {},
   "source": [
    "SUM and AVG can only be used with number types, while MAX and MIN can be used for numbers, date/times, and even strings (though you will need to think about what it means to return a 'smaller' or 'larger' string). COUNT is available to any data type, and returns the number of non-null values in that column."
   ]
  },
  {
   "cell_type": "code",
   "execution_count": 1,
   "metadata": {},
   "outputs": [],
   "source": [
    "# SELECT continent\n",
    "# FROM country\n",
    "# GROUP BY continent;\n",
    "\n",
    "\n",
    "# SELECT name, continent\n",
    "# FROM country\n",
    "# GROUP BY continent;\n",
    "\n",
    "\n",
    "# SELECT COUNT(name), continent\n",
    "# FROM country\n",
    "# GROUP BY continent;\n",
    "\n",
    "\n",
    "# SELECT SUM(population), continent\n",
    "# FROM country\n",
    "# GROUP BY continent;\n",
    "\n",
    "\n",
    "# SELECT AVG(lifeexpectancy), continent\n",
    "# FROM country\n",
    "# GROUP BY continent;\n",
    "\n",
    "\n",
    "# SELECT MAX(indepyear), continent\n",
    "# FROM country\n",
    "# GROUP BY continent;\n",
    "\n",
    "\n",
    "# SELECT COUNT(*) as big_countries\n",
    "# FROM country\n",
    "# WHERE population > 100000000;\n",
    "\n",
    "# SELECT SUM(population) as the_whole_world\n",
    "# FROM country;"
   ]
  },
  {
   "cell_type": "code",
   "execution_count": null,
   "metadata": {},
   "outputs": [],
   "source": []
  },
  {
   "cell_type": "markdown",
   "metadata": {},
   "source": [
    "## SELECT DISTINCT\n",
    "\n",
    "SELECT DISTINCT has some similarities to GROUP BY. It is a simple way to return all unique values of a given field. It is not meant to be used with aggregate functions; instead, its typical purpose is to remove duplicates.\n",
    "\n",
    "Suppose you're interested in what types of government are common in different continents. If you query"
   ]
  },
  {
   "cell_type": "code",
   "execution_count": 2,
   "metadata": {},
   "outputs": [],
   "source": [
    "# SELECT continent, governmentform\n",
    "# FROM country\n",
    "# ORDER BY continent, governmentform;\n",
    "\n",
    "\n",
    "# SELECT DISTINCT continent, governmentform\n",
    "# FROM country\n",
    "# ORDER BY continent, governmentform;"
   ]
  },
  {
   "cell_type": "markdown",
   "metadata": {},
   "source": [
    "1. Use an aggregate function to return the number of countries that became independent in the year 1918."
   ]
  },
  {
   "cell_type": "code",
   "execution_count": 3,
   "metadata": {},
   "outputs": [],
   "source": [
    "# agg_1918 = '''\n",
    "# SELECT COUNT(name) FROM country WHERE indepyear = 1918;\n",
    "# '''\n"
   ]
  },
  {
   "cell_type": "code",
   "execution_count": 4,
   "metadata": {},
   "outputs": [],
   "source": [
    "# agg_1918 = '''\n",
    "# SELECT COUNT(code)\n",
    "# FROM country\n",
    "# WHERE indepyear = 1918;\n",
    "# '''"
   ]
  },
  {
   "cell_type": "code",
   "execution_count": null,
   "metadata": {},
   "outputs": [],
   "source": []
  },
  {
   "cell_type": "markdown",
   "metadata": {},
   "source": [
    "2. Write a query that returns the average population of countries whose government is a Constitutional Monarchy."
   ]
  },
  {
   "cell_type": "code",
   "execution_count": 5,
   "metadata": {},
   "outputs": [],
   "source": [
    "# agg_constmon = '''\n",
    "# SELECT AVG(population) FROM country WHERE governmentform IN ('Constitutional Monarchy');\n",
    "# '''"
   ]
  },
  {
   "cell_type": "code",
   "execution_count": 6,
   "metadata": {},
   "outputs": [],
   "source": [
    "# agg_constmon = '''\n",
    "# SELECT avg(population)\n",
    "# FROM country\n",
    "# WHERE governmentform = \"Constitutional Monarchy\";\n",
    "# '''"
   ]
  },
  {
   "cell_type": "code",
   "execution_count": 7,
   "metadata": {},
   "outputs": [],
   "source": [
    "# SELECT avg(population)\n",
    "# FROM country\n",
    "# WHERE governmentform LIKE \"%Constitutional Monarchy%\";"
   ]
  },
  {
   "cell_type": "code",
   "execution_count": null,
   "metadata": {},
   "outputs": [],
   "source": []
  },
  {
   "cell_type": "markdown",
   "metadata": {},
   "source": [
    "3. Write a query that returns each continent and the area of the largest country in that continent."
   ]
  },
  {
   "cell_type": "code",
   "execution_count": 8,
   "metadata": {},
   "outputs": [],
   "source": [
    "# agg_areas = '''\n",
    "# SELECT continent, surfacearea\n",
    "# FROM country\n",
    "# WHERE surfacearea\n",
    "# IN (SELECT MAX(surfacearea) FROM country GROUP BY continent);\n",
    "# '''"
   ]
  },
  {
   "cell_type": "code",
   "execution_count": null,
   "metadata": {},
   "outputs": [],
   "source": [
    "# agg_areas = '''\n",
    "# SELECT continent, MAX(surfacearea)\n",
    "# FROM country\n",
    "# GROUP BY continent;\n",
    "# '''"
   ]
  }
 ],
 "metadata": {
  "kernelspec": {
   "display_name": "Python 3",
   "language": "python",
   "name": "python3"
  },
  "language_info": {
   "codemirror_mode": {
    "name": "ipython",
    "version": 3
   },
   "file_extension": ".py",
   "mimetype": "text/x-python",
   "name": "python",
   "nbconvert_exporter": "python",
   "pygments_lexer": "ipython3",
   "version": "3.8.5"
  }
 },
 "nbformat": 4,
 "nbformat_minor": 4
}
