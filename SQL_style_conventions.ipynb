{
 "cells": [
  {
   "cell_type": "code",
   "execution_count": 1,
   "metadata": {},
   "outputs": [],
   "source": [
    "# SELECT mycolumn FROM mytable WHERE anothercol IS NULL;"
   ]
  },
  {
   "cell_type": "code",
   "execution_count": null,
   "metadata": {},
   "outputs": [],
   "source": []
  },
  {
   "cell_type": "code",
   "execution_count": 3,
   "metadata": {},
   "outputs": [],
   "source": [
    "# SELECT name\n",
    "# FROM mytable\n",
    "# WHERE price > 100\n",
    "# ORDER BY name;\n",
    "\n",
    "\n",
    "# SELECT\n",
    "#     name,\n",
    "#     SUM(price) as total_price,\n",
    "#     COUNT(1)\n",
    "# FROM mytable\n",
    "# GROUP BY name;\n",
    "\n",
    "\n",
    "# SELECT\n",
    "#     a.name,\n",
    "#     a.price\n",
    "# FROM mytable a\n",
    "# JOIN anothertable b\n",
    "# ON\n",
    "#     a.item_id = b.item_id AND\n",
    "#     a.price > 100 AND\n",
    "#     b.dept='shoes';\n",
    "    \n",
    "\n",
    "# SELECT *\n",
    "# FROM products\n",
    "# WHERE price = (SELECT MAX(price) FROM products WHERE dept = 'shoes')\n",
    "# ORDER BY name\n",
    "\n",
    "\n",
    "# SELECT *\n",
    "# FROM products\n",
    "# WHERE price =\n",
    "#       (SELECT MAX(price)\n",
    "#        FROM products\n",
    "#        WHERE dept = 'shoes' )\n",
    "# ORDER BY name;"
   ]
  },
  {
   "cell_type": "code",
   "execution_count": null,
   "metadata": {},
   "outputs": [],
   "source": []
  },
  {
   "cell_type": "code",
   "execution_count": 4,
   "metadata": {},
   "outputs": [],
   "source": [
    "# SELECT\n",
    "#     co.name,\n",
    "#     co.population as country_pop,\n",
    "# count\n",
    "#     (ct.population)\n",
    "# as\n",
    "#     num_cities,\n",
    "# print\n",
    "#     f(\"%.2f\", avg(ct.population))\n",
    "# as\n",
    "#     avg_city_pop\n",
    "# FROM\n",
    "#     city ct\n",
    "# JOIN\n",
    "#     country co\n",
    "# on\n",
    "#     ct.countrycode = co.code\n",
    "# GROUP BY\n",
    "#     ct.countrycode\n",
    "# having\n",
    "#     num_cities > 5\n",
    "# order by\n",
    "#     avg_city_pop limit 10;"
   ]
  },
  {
   "cell_type": "code",
   "execution_count": null,
   "metadata": {},
   "outputs": [],
   "source": []
  },
  {
   "cell_type": "code",
   "execution_count": 5,
   "metadata": {},
   "outputs": [],
   "source": [
    "# SELECT co.name,\n",
    "#         co.population as country_pop,\n",
    "#         COUNT(ct.population) as num_cities,\n",
    "#         printf(\"%.2f\", avg(ct.population)) as avg_city_pop\n",
    "# FROM city ct\n",
    "# JOIN country co\n",
    "# ON ct.countrycode = co.code\n",
    "# GROUP BY ct.countrycode\n",
    "# HAVING num_cities > 5\n",
    "# ORDER BY avg_city_pop\n",
    "# LIMIT 10;"
   ]
  },
  {
   "cell_type": "code",
   "execution_count": null,
   "metadata": {},
   "outputs": [],
   "source": []
  }
 ],
 "metadata": {
  "kernelspec": {
   "display_name": "Python 3",
   "language": "python",
   "name": "python3"
  },
  "language_info": {
   "codemirror_mode": {
    "name": "ipython",
    "version": 3
   },
   "file_extension": ".py",
   "mimetype": "text/x-python",
   "name": "python",
   "nbconvert_exporter": "python",
   "pygments_lexer": "ipython3",
   "version": "3.8.5"
  }
 },
 "nbformat": 4,
 "nbformat_minor": 4
}
