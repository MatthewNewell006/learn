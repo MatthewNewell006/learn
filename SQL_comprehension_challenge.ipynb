{
 "cells": [
  {
   "cell_type": "markdown",
   "metadata": {},
   "source": [
    "1. As you begin exploring the city table from the world database, a place to start is to determine how many cities are in the table. Write a query that returns this value."
   ]
  },
  {
   "cell_type": "code",
   "execution_count": 1,
   "metadata": {},
   "outputs": [],
   "source": [
    "# cities = '''SELECT COUNT(name) FROM city;\n",
    "# '''"
   ]
  },
  {
   "cell_type": "code",
   "execution_count": 2,
   "metadata": {},
   "outputs": [],
   "source": [
    "# SELECT Count(*) FROM city;"
   ]
  },
  {
   "cell_type": "code",
   "execution_count": null,
   "metadata": {},
   "outputs": [],
   "source": []
  },
  {
   "cell_type": "markdown",
   "metadata": {},
   "source": [
    "2. A natural thing to wonder about these cities is how they are distributed around the world. To start with this topic, write a query to return the countrycode and count of cities in that country for only the country with the most cities in the city table."
   ]
  },
  {
   "cell_type": "code",
   "execution_count": 3,
   "metadata": {},
   "outputs": [],
   "source": [
    "# countrycode_citycount = '''SELECT countrycode, COUNT(name)\n",
    "# FROM city\n",
    "# GROUP BY countrycode\n",
    "# ORDER BY COUNT(name) DESC\n",
    "# LIMIT 1;\n",
    "# '''\n",
    "\n",
    "# # '''SELECT countrycode, MAX(count) FROM (SELECT countrycode, count(*) as count FROM city GROUP BY countrycode);\n",
    "# # '''"
   ]
  },
  {
   "cell_type": "code",
   "execution_count": 5,
   "metadata": {},
   "outputs": [],
   "source": [
    "# SELECT countrycode, Count(*) AS cnt\n",
    "# FROM city\n",
    "# GROUP BY countrycode\n",
    "# ORDER BY cnt DESC\n",
    "# LIMIT 1;"
   ]
  },
  {
   "cell_type": "code",
   "execution_count": null,
   "metadata": {},
   "outputs": [],
   "source": []
  },
  {
   "cell_type": "markdown",
   "metadata": {},
   "source": [
    "You could look at the number of cities per country to try to get a sense about cities all over the world, but since there are several hundred countries this is not easily digestible. Instead, look at the counts of cities per continent. Write a query that returns each continent and the number of cities in that continent. Be sure that each city in the city table is included in the counts from your query.\n",
    "\n",
    "Hint: A good way to check if each city is included in this query is to look at the total of the counts from your query and see if this number matches the result you got from the first query you wrote above. Try testing this on your local machine.\n",
    "\n",
    "Another Hint: If you got counts back, but their total doesn't match the results from the first query of the checkpoint, you probably realized a join is required here. What type of join ensures that all cities are included in the results?"
   ]
  },
  {
   "cell_type": "code",
   "execution_count": 6,
   "metadata": {},
   "outputs": [],
   "source": [
    "# continent_citycount = '''\n",
    "# SELECT co.continent, COUNT(ci.name)\n",
    "# FROM city ci\n",
    "# LEFT JOIN country co\n",
    "# ON ci.countrycode = co .code\n",
    "# GROUP BY co.continent\n",
    "# ORDER BY COUNT(ci.name) ASC;\n",
    "# '''\n",
    "\n",
    "# # '''SELECT continent FROM country JOIN (SELECT count(id) FROM city) ON code=countrycode;\n",
    "# # '''"
   ]
  },
  {
   "cell_type": "code",
   "execution_count": 7,
   "metadata": {},
   "outputs": [],
   "source": [
    "# SELECT continent, Count(*)\n",
    "# FROM city\n",
    "# LEFT JOIN country\n",
    "# ON city.countrycode = country.code\n",
    "# GROUP BY continent;"
   ]
  },
  {
   "cell_type": "code",
   "execution_count": null,
   "metadata": {},
   "outputs": [],
   "source": []
  }
 ],
 "metadata": {
  "kernelspec": {
   "display_name": "Python 3",
   "language": "python",
   "name": "python3"
  },
  "language_info": {
   "codemirror_mode": {
    "name": "ipython",
    "version": 3
   },
   "file_extension": ".py",
   "mimetype": "text/x-python",
   "name": "python",
   "nbconvert_exporter": "python",
   "pygments_lexer": "ipython3",
   "version": "3.8.5"
  }
 },
 "nbformat": 4,
 "nbformat_minor": 4
}
