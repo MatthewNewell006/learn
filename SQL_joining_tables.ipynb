{
 "cells": [
  {
   "cell_type": "code",
   "execution_count": 1,
   "metadata": {},
   "outputs": [],
   "source": [
    "# SELECT name, city, state, purchases.id, date\n",
    "# FROM customers\n",
    "# JOIN purchases\n",
    "# ON customers.id = purchases.custid;"
   ]
  },
  {
   "cell_type": "code",
   "execution_count": null,
   "metadata": {},
   "outputs": [],
   "source": []
  },
  {
   "cell_type": "markdown",
   "metadata": {},
   "source": [
    "## Table aliases"
   ]
  },
  {
   "cell_type": "markdown",
   "metadata": {},
   "source": [
    "Notice that you specify purchases.id in the SELECT clause. This is to disambiguate between the id field in the customers table and the id field in the purchases table. Since name, city, state and date each only appear in one of the joined tables, you do not need to specify the tables. However, there is no harm in including the table names; SELECT customers.name, customers.city, customers.state, purchases.id, purchases.date with return exactly the same results. On the one hand, this takes longer to type; on the other, it makes it much more clear where each piece of information is coming from.\n",
    "\n",
    "A happy medium, especially as queries get longer, is to give each table a short alias. Using aliases, you could write the same query like this:\n",
    "\n"
   ]
  },
  {
   "cell_type": "code",
   "execution_count": 2,
   "metadata": {},
   "outputs": [],
   "source": [
    "# SELECT cu.name, cu.city, cu.state, pu.id, pu.date\n",
    "# FROM customers cu\n",
    "# JOIN purchases pu\n",
    "# ON cu.id = pu.custid;"
   ]
  },
  {
   "cell_type": "code",
   "execution_count": null,
   "metadata": {},
   "outputs": [],
   "source": []
  },
  {
   "cell_type": "code",
   "execution_count": 4,
   "metadata": {},
   "outputs": [],
   "source": [
    "# SELECT cu.name, cu.city, cu.state, pu.id, pu.date\n",
    "# FROM customers cu\n",
    "# LEFT JOIN purchases pu\n",
    "# ON cu.id = pu.custid;\n",
    "\n",
    "\n",
    "# SELECT cu.name, cu.city, cu.state, pu.id, pu.date\n",
    "# FROM customers cu\n",
    "# RIGHT JOIN purchases pu\n",
    "# ON cu.id = pu.custid;\n",
    "\n",
    "\n",
    "# CREATE TABLE activities (\n",
    "#     activity VARCHAR(21) PRIMARY KEY,\n",
    "#     location VARCHAR(21),\n",
    "#     attime TIME\n",
    "#   );\n",
    "\n",
    "# CREATE TABLE campers (\n",
    "#     name VARCHAR(21) PRIMARY KEY,\n",
    "#     cabin VARCHAR(21),\n",
    "#     activity VARCHAR(21)\n",
    "#   );\n",
    "\n",
    "# INSERT INTO activities VALUES\n",
    "#   ('woodworking', 'shop', '15:00:00'),\n",
    "#   ('waterskiing', 'lake',  '14:00:00' ),\n",
    "#   ('arts and crafts', 'lodge',  '12:00:00' ),\n",
    "#   ('hiking', 'lawn',  '09:00:00' ),\n",
    "#   ('swimming', 'lake',  '14:00:00' ),\n",
    "#   ('chess', 'lodge',  '11:00:00' );\n",
    "\n",
    "# INSERT INTO campers VALUES\n",
    "#   ('Zort', 'Pinecone', 'woodworking'),\n",
    "#   ('Bort', 'Magnolia', 'reading'),\n",
    "#   ('Short', 'Pinecone', 'arts and crafts'),\n",
    "#   ('Lort', 'Acorn', 'nap'),\n",
    "#   ('Kort', 'Bluebell', 'hiking'),\n",
    "#   ('Flort', 'Acorn', 'woodworking'),\n",
    "#   ('Mort', 'Pinecone', 'waterskiing');"
   ]
  },
  {
   "cell_type": "code",
   "execution_count": null,
   "metadata": {},
   "outputs": [],
   "source": []
  },
  {
   "cell_type": "code",
   "execution_count": 5,
   "metadata": {},
   "outputs": [],
   "source": [
    "# SELECT cp.name, cp.cabin, ac.location, ac.attime\n",
    "# FROM campers cp\n",
    "# JOIN activities ac\n",
    "# ON cp.activity = ac.activity;\n",
    "\n",
    "# SELECT cp.name, cp.cabin, ac.location, ac.attime\n",
    "# FROM campers cp\n",
    "# LEFT JOIN activities ac\n",
    "# ON cp.activity = ac.activity;\n",
    "\n",
    "# SELECT cp.name, cp.cabin, ac.location, ac.attime\n",
    "# FROM activities ac\n",
    "# LEFT JOIN campers cp\n",
    "# ON cp.activity = ac.activity;"
   ]
  },
  {
   "cell_type": "code",
   "execution_count": null,
   "metadata": {},
   "outputs": [],
   "source": []
  },
  {
   "cell_type": "markdown",
   "metadata": {},
   "source": [
    "## Multiple Joins"
   ]
  },
  {
   "cell_type": "markdown",
   "metadata": {},
   "source": [
    "In a star schema, it will often be necessary to perform multiple joins in a single query, since the fact table acts as an intermediary between all the other tables.\n",
    "\n",
    "Returning to the sales database, how can you get a list of all customers who have placed orders, along with the product they ordered? You already know how to see all the customers and their orders:\n",
    "\n"
   ]
  },
  {
   "cell_type": "code",
   "execution_count": 6,
   "metadata": {},
   "outputs": [],
   "source": [
    "# SELECT cu.name, cu.city, cu.state, pu.id, pu.date\n",
    "# FROM customers cu\n",
    "# JOIN purchases pu\n",
    "# ON cu.id = pu.custid;\n",
    "\n",
    "\n",
    "# SELECT cu.name, cu.city, cu.state, pu.id, pu.date, pu.prodid\n",
    "# FROM customers cu\n",
    "# JOIN purchases pu\n",
    "# ON cu.id = pu.custid;\n",
    "\n",
    "\n",
    "# SELECT cu.name as customer,\n",
    "#        cu.city,\n",
    "#        cu.state,\n",
    "#        pu.id as purchase_id,\n",
    "#        pu.date,\n",
    "#        pr.name as product_name,\n",
    "#        pr.id as product_id\n",
    "# FROM customers cu\n",
    "# JOIN purchases pu\n",
    "# ON cu.id = pu.custid\n",
    "# JOIN products pr\n",
    "# ON pu.prodid = pr.id;"
   ]
  },
  {
   "cell_type": "code",
   "execution_count": null,
   "metadata": {},
   "outputs": [],
   "source": []
  },
  {
   "cell_type": "markdown",
   "metadata": {},
   "source": [
    "1. Using the animalshp database, return a table showing the name and appearance of every pet. Order by pet name."
   ]
  },
  {
   "cell_type": "code",
   "execution_count": 7,
   "metadata": {},
   "outputs": [],
   "source": [
    "# join_pets = '''\n",
    "# SELECT pe.name, an.appearance\n",
    "# FROM pets pe\n",
    "# JOIN animals an\n",
    "# ON an.species = pe.species\n",
    "# ORDER BY pe.name;\n",
    "# '''"
   ]
  },
  {
   "cell_type": "code",
   "execution_count": 8,
   "metadata": {},
   "outputs": [],
   "source": [
    "# join_pets = '''\n",
    "# select pt.name, an.appearance\n",
    "#     from pets pt\n",
    "#     join animals an\n",
    "#     on pt.species = an.species\n",
    "#     order by pt.name;\n",
    "# '''"
   ]
  },
  {
   "cell_type": "code",
   "execution_count": null,
   "metadata": {},
   "outputs": [],
   "source": []
  }
 ],
 "metadata": {
  "kernelspec": {
   "display_name": "Python 3",
   "language": "python",
   "name": "python3"
  },
  "language_info": {
   "codemirror_mode": {
    "name": "ipython",
    "version": 3
   },
   "file_extension": ".py",
   "mimetype": "text/x-python",
   "name": "python",
   "nbconvert_exporter": "python",
   "pygments_lexer": "ipython3",
   "version": "3.8.5"
  }
 },
 "nbformat": 4,
 "nbformat_minor": 4
}
